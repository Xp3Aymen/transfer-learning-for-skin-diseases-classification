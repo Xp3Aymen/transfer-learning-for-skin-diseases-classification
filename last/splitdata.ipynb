{
 "cells": [
  {
   "cell_type": "code",
   "execution_count": 1,
   "id": "8093196e",
   "metadata": {},
   "outputs": [
    {
     "name": "stdout",
     "output_type": "stream",
     "text": [
      "Collecting split-folders\n",
      "  Downloading split_folders-0.5.1-py3-none-any.whl (8.4 kB)\n",
      "Installing collected packages: split-folders\n",
      "Successfully installed split-folders-0.5.1\n",
      "Note: you may need to restart the kernel to use updated packages.\n"
     ]
    }
   ],
   "source": [
    "pip install split-folders"
   ]
  },
  {
   "cell_type": "code",
   "execution_count": 1,
   "id": "36d4e366",
   "metadata": {},
   "outputs": [],
   "source": [
    "import splitfolders "
   ]
  },
  {
   "cell_type": "code",
   "execution_count": 2,
   "id": "8eb0ee57",
   "metadata": {},
   "outputs": [],
   "source": [
    "input_folder = (r'C:/Users/bough/Desktop/iris/imagesdata1/data1')\n",
    "output_folder=(r'C:/Users/bough/Desktop/iris/imagesdata1/data2')"
   ]
  },
  {
   "cell_type": "code",
   "execution_count": 3,
   "id": "5dc24370",
   "metadata": {},
   "outputs": [
    {
     "name": "stderr",
     "output_type": "stream",
     "text": [
      "Copying files: 8001 files [00:09, 814.06 files/s] \n"
     ]
    }
   ],
   "source": [
    "splitfolders.ratio(input_folder, output=output_folder, \n",
    "                   seed=42, ratio=(.7, .2, .1), \n",
    "                   group_prefix=None) # default values"
   ]
  },
  {
   "cell_type": "code",
   "execution_count": null,
   "id": "e4032464",
   "metadata": {},
   "outputs": [],
   "source": []
  }
 ],
 "metadata": {
  "kernelspec": {
   "display_name": "Python 3 (ipykernel)",
   "language": "python",
   "name": "python3"
  },
  "language_info": {
   "codemirror_mode": {
    "name": "ipython",
    "version": 3
   },
   "file_extension": ".py",
   "mimetype": "text/x-python",
   "name": "python",
   "nbconvert_exporter": "python",
   "pygments_lexer": "ipython3",
   "version": "3.9.12"
  }
 },
 "nbformat": 4,
 "nbformat_minor": 5
}
